{
 "cells": [
  {
   "cell_type": "code",
   "execution_count": 1,
   "metadata": {},
   "outputs": [],
   "source": [
    "from Patient import patient\n",
    "from Record import record"
   ]
  },
  {
   "cell_type": "code",
   "execution_count": 2,
   "metadata": {},
   "outputs": [],
   "source": [
    "import numpy as np\n",
    "import pandas as pd"
   ]
  },
  {
   "cell_type": "code",
   "execution_count": 3,
   "metadata": {},
   "outputs": [],
   "source": [
    "#下面有範例"
   ]
  },
  {
   "cell_type": "code",
   "execution_count": 4,
   "metadata": {},
   "outputs": [],
   "source": [
    "class main():\n",
    "    def __init__(self):\n",
    "        self._patients = np.nan\n",
    "        self._search_patient = np.nan\n",
    "        \n",
    "    #load 資料庫\n",
    "    def load_data(self):\n",
    "        patients_input = pd.read_pickle('patients_100.pickle')\n",
    "        records_input = pd.read_pickle('records_100.pickle')\n",
    "        inpatients_input = pd.read_pickle('inpatients_100.pickle')\n",
    "        \n",
    "        inpatients_input = inpatients_input.drop('HospID',axis = 1)\n",
    "        inpatients_input['Type'] = 2.0\n",
    "        records_input['Type'] = records_input['Type'].astype('int64')\n",
    "        records_input = records_input[records_input['Type']!=2]\n",
    "        records_input = pd.concat([records_input,inpatients_input])\n",
    "        records_input = records_input.reset_index(drop='True')\n",
    "        self._patients = list()\n",
    "        for row in patients_input.itertuples():\n",
    "            single_records_df = records_input[records_input['ID']== getattr(row,'ID')]\n",
    "            single_records = list()\n",
    "            for rows in single_records_df.itertuples():\n",
    "                single_records.append(\n",
    "                    record(\n",
    "                        getattr(rows,'InDate'),\n",
    "                        getattr(rows,'Type'),\n",
    "                        getattr(rows,'Area'),\n",
    "                        getattr(rows,'TotalDot'),\n",
    "                        getattr(rows,'ICD9CM'),\n",
    "                        getattr(rows,'Drug')\n",
    "                    )\n",
    "                )\n",
    "            self._patients.append(\n",
    "                patient(\n",
    "                    getattr(row,'ID'),\n",
    "                    getattr(row,'Gender'),\n",
    "                    getattr(row,'Birth'),\n",
    "                    getattr(row,'Death'),\n",
    "                    single_records\n",
    "                )\n",
    "            )\n",
    "    def set_patient_by_id(self, _id):\n",
    "        for patient in self._patients:\n",
    "            if patient._id == _id:\n",
    "                self._search_patient = patient\n",
    "                break\n",
    "    \n",
    "    def get_patient_personal_data(self):\n",
    "        return self._search_patient._id, self._search_patient._gender, self._search_patient._birthdate\n",
    "    \n",
    "    def get_patient_records(self):\n",
    "        out = list()\n",
    "        for record in self._search_patient._records:\n",
    "            s_out = list()\n",
    "            s_out.append(record._date)\n",
    "            s_out.append(record._type)\n",
    "            s_out.append(record._diseases[0])\n",
    "            out.append(s_out)\n",
    "        return out\n",
    "    \n",
    "    def get_record_detial(self, _key):\n",
    "        out = [[\n",
    "            self._search_patient._id,\n",
    "            self._search_patient._gender,\n",
    "            self._search_patient._records[_key]._type,\n",
    "            self._search_patient._records[_key]._date,\n",
    "            self._search_patient._records[_key]._diseases,\n",
    "            self._search_patient._records[_key]._medicine\n",
    "        ]]\n",
    "        return out"
   ]
  },
  {
   "cell_type": "code",
   "execution_count": 5,
   "metadata": {},
   "outputs": [],
   "source": [
    "test = main()"
   ]
  },
  {
   "cell_type": "code",
   "execution_count": 6,
   "metadata": {},
   "outputs": [
    {
     "name": "stdout",
     "output_type": "stream",
     "text": [
      "Wall time: 872 ms\n"
     ]
    }
   ],
   "source": [
    "%%time\n",
    "test.load_data()"
   ]
  },
  {
   "cell_type": "code",
   "execution_count": 7,
   "metadata": {},
   "outputs": [
    {
     "name": "stdout",
     "output_type": "stream",
     "text": [
      "Wall time: 0 ns\n"
     ]
    }
   ],
   "source": [
    "%%time\n",
    "test_patient_ID = '0289fa521acd624fbc4faf038537b1ee'\n",
    "test.set_patient_by_id(test_patient_ID)"
   ]
  },
  {
   "cell_type": "code",
   "execution_count": 8,
   "metadata": {},
   "outputs": [
    {
     "name": "stdout",
     "output_type": "stream",
     "text": [
      "Wall time: 0 ns\n"
     ]
    }
   ],
   "source": [
    "%%time\n",
    "s_id,s_gender,s_birthdate = test.get_patient_personal_data()"
   ]
  },
  {
   "cell_type": "code",
   "execution_count": 9,
   "metadata": {},
   "outputs": [
    {
     "name": "stdout",
     "output_type": "stream",
     "text": [
      "Wall time: 3.96 ms\n"
     ]
    },
    {
     "data": {
      "text/html": [
       "<div>\n",
       "<style scoped>\n",
       "    .dataframe tbody tr th:only-of-type {\n",
       "        vertical-align: middle;\n",
       "    }\n",
       "\n",
       "    .dataframe tbody tr th {\n",
       "        vertical-align: top;\n",
       "    }\n",
       "\n",
       "    .dataframe thead th {\n",
       "        text-align: right;\n",
       "    }\n",
       "</style>\n",
       "<table border=\"1\" class=\"dataframe\">\n",
       "  <thead>\n",
       "    <tr style=\"text-align: right;\">\n",
       "      <th></th>\n",
       "      <th>date</th>\n",
       "      <th>type</th>\n",
       "      <th>main_disease</th>\n",
       "    </tr>\n",
       "  </thead>\n",
       "  <tbody>\n",
       "    <tr>\n",
       "      <th>0</th>\n",
       "      <td>2001-04-04</td>\n",
       "      <td>0.0</td>\n",
       "      <td>784</td>\n",
       "    </tr>\n",
       "    <tr>\n",
       "      <th>1</th>\n",
       "      <td>2001-04-06</td>\n",
       "      <td>0.0</td>\n",
       "      <td>461</td>\n",
       "    </tr>\n",
       "    <tr>\n",
       "      <th>2</th>\n",
       "      <td>2001-05-24</td>\n",
       "      <td>0.0</td>\n",
       "      <td>845</td>\n",
       "    </tr>\n",
       "    <tr>\n",
       "      <th>3</th>\n",
       "      <td>2013-04-27</td>\n",
       "      <td>0.0</td>\n",
       "      <td>883</td>\n",
       "    </tr>\n",
       "    <tr>\n",
       "      <th>4</th>\n",
       "      <td>2013-04-29</td>\n",
       "      <td>0.0</td>\n",
       "      <td>883</td>\n",
       "    </tr>\n",
       "    <tr>\n",
       "      <th>5</th>\n",
       "      <td>2013-09-23</td>\n",
       "      <td>0.0</td>\n",
       "      <td>786</td>\n",
       "    </tr>\n",
       "    <tr>\n",
       "      <th>6</th>\n",
       "      <td>2013-09-24</td>\n",
       "      <td>1.0</td>\n",
       "      <td>410</td>\n",
       "    </tr>\n",
       "    <tr>\n",
       "      <th>7</th>\n",
       "      <td>2013-10-03</td>\n",
       "      <td>0.0</td>\n",
       "      <td>414</td>\n",
       "    </tr>\n",
       "    <tr>\n",
       "      <th>8</th>\n",
       "      <td>2013-10-24</td>\n",
       "      <td>0.0</td>\n",
       "      <td>414</td>\n",
       "    </tr>\n",
       "    <tr>\n",
       "      <th>9</th>\n",
       "      <td>2013-11-21</td>\n",
       "      <td>0.0</td>\n",
       "      <td>414</td>\n",
       "    </tr>\n",
       "    <tr>\n",
       "      <th>10</th>\n",
       "      <td>2013-12-19</td>\n",
       "      <td>0.0</td>\n",
       "      <td>414</td>\n",
       "    </tr>\n",
       "  </tbody>\n",
       "</table>\n",
       "</div>"
      ],
      "text/plain": [
       "         date  type  main_disease\n",
       "0  2001-04-04   0.0           784\n",
       "1  2001-04-06   0.0           461\n",
       "2  2001-05-24   0.0           845\n",
       "3  2013-04-27   0.0           883\n",
       "4  2013-04-29   0.0           883\n",
       "5  2013-09-23   0.0           786\n",
       "6  2013-09-24   1.0           410\n",
       "7  2013-10-03   0.0           414\n",
       "8  2013-10-24   0.0           414\n",
       "9  2013-11-21   0.0           414\n",
       "10 2013-12-19   0.0           414"
      ]
     },
     "execution_count": 9,
     "metadata": {},
     "output_type": "execute_result"
    }
   ],
   "source": [
    "%%time\n",
    "out = test.get_patient_records()\n",
    "pd.DataFrame(out,columns=['date','type','main_disease'])"
   ]
  },
  {
   "cell_type": "code",
   "execution_count": 10,
   "metadata": {},
   "outputs": [
    {
     "name": "stdout",
     "output_type": "stream",
     "text": [
      "Wall time: 0 ns\n"
     ]
    },
    {
     "data": {
      "text/html": [
       "<div>\n",
       "<style scoped>\n",
       "    .dataframe tbody tr th:only-of-type {\n",
       "        vertical-align: middle;\n",
       "    }\n",
       "\n",
       "    .dataframe tbody tr th {\n",
       "        vertical-align: top;\n",
       "    }\n",
       "\n",
       "    .dataframe thead th {\n",
       "        text-align: right;\n",
       "    }\n",
       "</style>\n",
       "<table border=\"1\" class=\"dataframe\">\n",
       "  <thead>\n",
       "    <tr style=\"text-align: right;\">\n",
       "      <th></th>\n",
       "      <th>id</th>\n",
       "      <th>gender</th>\n",
       "      <th>type</th>\n",
       "      <th>date</th>\n",
       "      <th>icd</th>\n",
       "      <th>drug</th>\n",
       "    </tr>\n",
       "  </thead>\n",
       "  <tbody>\n",
       "    <tr>\n",
       "      <th>0</th>\n",
       "      <td>0289fa521acd624fbc4faf038537b1ee</td>\n",
       "      <td>M</td>\n",
       "      <td>0.0</td>\n",
       "      <td>2001-04-04</td>\n",
       "      <td>[784, 463, 466]</td>\n",
       "      <td>NaN</td>\n",
       "    </tr>\n",
       "  </tbody>\n",
       "</table>\n",
       "</div>"
      ],
      "text/plain": [
       "                                 id gender  type       date              icd  \\\n",
       "0  0289fa521acd624fbc4faf038537b1ee      M   0.0 2001-04-04  [784, 463, 466]   \n",
       "\n",
       "   drug  \n",
       "0   NaN  "
      ]
     },
     "execution_count": 10,
     "metadata": {},
     "output_type": "execute_result"
    }
   ],
   "source": [
    "%%time\n",
    "#找地0筆record\n",
    "out =  test.get_record_detial(0)\n",
    "pd.DataFrame(out,columns=['id','gender','type','date','icd','drug'])"
   ]
  },
  {
   "cell_type": "code",
   "execution_count": null,
   "metadata": {},
   "outputs": [],
   "source": []
  },
  {
   "cell_type": "code",
   "execution_count": null,
   "metadata": {},
   "outputs": [],
   "source": []
  },
  {
   "cell_type": "code",
   "execution_count": null,
   "metadata": {},
   "outputs": [],
   "source": []
  },
  {
   "cell_type": "code",
   "execution_count": null,
   "metadata": {},
   "outputs": [],
   "source": []
  },
  {
   "cell_type": "code",
   "execution_count": null,
   "metadata": {},
   "outputs": [],
   "source": []
  },
  {
   "cell_type": "code",
   "execution_count": null,
   "metadata": {},
   "outputs": [],
   "source": []
  }
 ],
 "metadata": {
  "kernelspec": {
   "display_name": "Python 3",
   "language": "python",
   "name": "python3"
  },
  "language_info": {
   "codemirror_mode": {
    "name": "ipython",
    "version": 3
   },
   "file_extension": ".py",
   "mimetype": "text/x-python",
   "name": "python",
   "nbconvert_exporter": "python",
   "pygments_lexer": "ipython3",
   "version": "3.7.6"
  }
 },
 "nbformat": 4,
 "nbformat_minor": 2
}
