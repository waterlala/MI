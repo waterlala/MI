{
 "cells": [
  {
   "cell_type": "code",
   "execution_count": 1,
   "metadata": {},
   "outputs": [],
   "source": [
    "from Patient import patient\n",
    "from Record import record\n",
    "import numpy as np\n",
    "import pandas as pd"
   ]
  },
  {
   "cell_type": "code",
   "execution_count": 158,
   "metadata": {},
   "outputs": [],
   "source": [
    "class main():\n",
    "    def __init__(self):\n",
    "        self._patients = np.nan\n",
    "        self._records = np.nan\n",
    "        self._main_patient = np.nan\n",
    "        self._main_records= np.nan\n",
    "    #load 資料庫\n",
    "    def load_data(self):\n",
    "        self._patients = pd.read_pickle('../pickle/patients.pickle')\n",
    "        self._records = pd.read_pickle('../pickle/records_inpatients.pickle')\n",
    "    def set_patient_by_id(self, _id):\n",
    "        self._main_patient = self._patients[self._patients['ID']==_id].reset_index(drop='True')\n",
    "        self._main_records = self._records[self._records['PatientID']==_id].reset_index(drop='True')\n",
    "    def get_patient_personal_data(self):\n",
    "        return self._main_patient[['ID','Gender','Birth']].rename(columns={'ID':'id','Gender':'gender','Birth':'birthdate'})\n",
    "    def get_patient_records(self):\n",
    "        out = self._main_records[['InDate','Type','ICD9CM']].rename(columns={'InDate':'date','Type':'type','ICD9CM':'main_disease'})\n",
    "        out['main_disease'] = out['main_disease'].apply(lambda x: x[0])\n",
    "        return out\n",
    "    def get_record_detial(self, _key):\n",
    "        out_record = self._main_records[_key:_key+1]\n",
    "        out_record = out_record[['Type','InDate','ICD9CM','Drug']]\n",
    "        out_record = out_record.rename(columns={'InDate':'date','Type':'type','Drug':'drug','ICD9CM':'icd'})\n",
    "        out_patient = self._main_patient[['ID','Gender']].rename(columns={'ID':'id','Gender':'gender'})\n",
    "        out = pd.concat([out_patient,out_record],axis = 1)\n",
    "        return out"
   ]
  },
  {
   "cell_type": "code",
   "execution_count": 159,
   "metadata": {},
   "outputs": [],
   "source": [
    "test = main()"
   ]
  },
  {
   "cell_type": "code",
   "execution_count": 160,
   "metadata": {},
   "outputs": [
    {
     "name": "stdout",
     "output_type": "stream",
     "text": [
      "Wall time: 5.4 s\n"
     ]
    }
   ],
   "source": [
    "%%time\n",
    "test.load_data()"
   ]
  },
  {
   "cell_type": "code",
   "execution_count": 161,
   "metadata": {},
   "outputs": [
    {
     "name": "stdout",
     "output_type": "stream",
     "text": [
      "Wall time: 256 ms\n"
     ]
    }
   ],
   "source": [
    "%%time\n",
    "test_patient_ID = '0289fa521acd624fbc4faf038537b1ee'\n",
    "test.set_patient_by_id(test_patient_ID)"
   ]
  },
  {
   "cell_type": "code",
   "execution_count": 162,
   "metadata": {},
   "outputs": [
    {
     "name": "stdout",
     "output_type": "stream",
     "text": [
      "Wall time: 2.99 ms\n"
     ]
    },
    {
     "data": {
      "text/html": [
       "<div>\n",
       "<style scoped>\n",
       "    .dataframe tbody tr th:only-of-type {\n",
       "        vertical-align: middle;\n",
       "    }\n",
       "\n",
       "    .dataframe tbody tr th {\n",
       "        vertical-align: top;\n",
       "    }\n",
       "\n",
       "    .dataframe thead th {\n",
       "        text-align: right;\n",
       "    }\n",
       "</style>\n",
       "<table border=\"1\" class=\"dataframe\">\n",
       "  <thead>\n",
       "    <tr style=\"text-align: right;\">\n",
       "      <th></th>\n",
       "      <th>id</th>\n",
       "      <th>gender</th>\n",
       "      <th>birthdate</th>\n",
       "    </tr>\n",
       "  </thead>\n",
       "  <tbody>\n",
       "    <tr>\n",
       "      <th>0</th>\n",
       "      <td>0289fa521acd624fbc4faf038537b1ee</td>\n",
       "      <td>M</td>\n",
       "      <td>1963-03-01</td>\n",
       "    </tr>\n",
       "  </tbody>\n",
       "</table>\n",
       "</div>"
      ],
      "text/plain": [
       "                                 id gender  birthdate\n",
       "0  0289fa521acd624fbc4faf038537b1ee      M 1963-03-01"
      ]
     },
     "execution_count": 162,
     "metadata": {},
     "output_type": "execute_result"
    }
   ],
   "source": [
    "%%time\n",
    "test.get_patient_personal_data()"
   ]
  },
  {
   "cell_type": "code",
   "execution_count": 163,
   "metadata": {},
   "outputs": [
    {
     "name": "stdout",
     "output_type": "stream",
     "text": [
      "Wall time: 2.96 ms\n"
     ]
    },
    {
     "data": {
      "text/html": [
       "<div>\n",
       "<style scoped>\n",
       "    .dataframe tbody tr th:only-of-type {\n",
       "        vertical-align: middle;\n",
       "    }\n",
       "\n",
       "    .dataframe tbody tr th {\n",
       "        vertical-align: top;\n",
       "    }\n",
       "\n",
       "    .dataframe thead th {\n",
       "        text-align: right;\n",
       "    }\n",
       "</style>\n",
       "<table border=\"1\" class=\"dataframe\">\n",
       "  <thead>\n",
       "    <tr style=\"text-align: right;\">\n",
       "      <th></th>\n",
       "      <th>date</th>\n",
       "      <th>type</th>\n",
       "      <th>main_disease</th>\n",
       "    </tr>\n",
       "  </thead>\n",
       "  <tbody>\n",
       "    <tr>\n",
       "      <th>0</th>\n",
       "      <td>2001-04-04</td>\n",
       "      <td>0.0</td>\n",
       "      <td>784</td>\n",
       "    </tr>\n",
       "    <tr>\n",
       "      <th>1</th>\n",
       "      <td>2001-04-06</td>\n",
       "      <td>0.0</td>\n",
       "      <td>461</td>\n",
       "    </tr>\n",
       "    <tr>\n",
       "      <th>2</th>\n",
       "      <td>2001-05-24</td>\n",
       "      <td>0.0</td>\n",
       "      <td>845</td>\n",
       "    </tr>\n",
       "    <tr>\n",
       "      <th>3</th>\n",
       "      <td>2013-04-27</td>\n",
       "      <td>0.0</td>\n",
       "      <td>883</td>\n",
       "    </tr>\n",
       "    <tr>\n",
       "      <th>4</th>\n",
       "      <td>2013-04-29</td>\n",
       "      <td>0.0</td>\n",
       "      <td>883</td>\n",
       "    </tr>\n",
       "    <tr>\n",
       "      <th>5</th>\n",
       "      <td>2013-09-23</td>\n",
       "      <td>0.0</td>\n",
       "      <td>786</td>\n",
       "    </tr>\n",
       "    <tr>\n",
       "      <th>6</th>\n",
       "      <td>2013-09-24</td>\n",
       "      <td>1.0</td>\n",
       "      <td>410</td>\n",
       "    </tr>\n",
       "    <tr>\n",
       "      <th>7</th>\n",
       "      <td>2013-10-03</td>\n",
       "      <td>0.0</td>\n",
       "      <td>414</td>\n",
       "    </tr>\n",
       "    <tr>\n",
       "      <th>8</th>\n",
       "      <td>2013-10-24</td>\n",
       "      <td>0.0</td>\n",
       "      <td>414</td>\n",
       "    </tr>\n",
       "    <tr>\n",
       "      <th>9</th>\n",
       "      <td>2013-11-21</td>\n",
       "      <td>0.0</td>\n",
       "      <td>414</td>\n",
       "    </tr>\n",
       "    <tr>\n",
       "      <th>10</th>\n",
       "      <td>2013-12-19</td>\n",
       "      <td>0.0</td>\n",
       "      <td>414</td>\n",
       "    </tr>\n",
       "  </tbody>\n",
       "</table>\n",
       "</div>"
      ],
      "text/plain": [
       "         date  type  main_disease\n",
       "0  2001-04-04   0.0           784\n",
       "1  2001-04-06   0.0           461\n",
       "2  2001-05-24   0.0           845\n",
       "3  2013-04-27   0.0           883\n",
       "4  2013-04-29   0.0           883\n",
       "5  2013-09-23   0.0           786\n",
       "6  2013-09-24   1.0           410\n",
       "7  2013-10-03   0.0           414\n",
       "8  2013-10-24   0.0           414\n",
       "9  2013-11-21   0.0           414\n",
       "10 2013-12-19   0.0           414"
      ]
     },
     "execution_count": 163,
     "metadata": {},
     "output_type": "execute_result"
    }
   ],
   "source": [
    "%%time\n",
    "test.get_patient_records()"
   ]
  },
  {
   "cell_type": "code",
   "execution_count": 164,
   "metadata": {},
   "outputs": [
    {
     "name": "stdout",
     "output_type": "stream",
     "text": [
      "Wall time: 11 ms\n"
     ]
    },
    {
     "data": {
      "text/html": [
       "<div>\n",
       "<style scoped>\n",
       "    .dataframe tbody tr th:only-of-type {\n",
       "        vertical-align: middle;\n",
       "    }\n",
       "\n",
       "    .dataframe tbody tr th {\n",
       "        vertical-align: top;\n",
       "    }\n",
       "\n",
       "    .dataframe thead th {\n",
       "        text-align: right;\n",
       "    }\n",
       "</style>\n",
       "<table border=\"1\" class=\"dataframe\">\n",
       "  <thead>\n",
       "    <tr style=\"text-align: right;\">\n",
       "      <th></th>\n",
       "      <th>id</th>\n",
       "      <th>gender</th>\n",
       "      <th>type</th>\n",
       "      <th>date</th>\n",
       "      <th>icd</th>\n",
       "      <th>drug</th>\n",
       "    </tr>\n",
       "  </thead>\n",
       "  <tbody>\n",
       "    <tr>\n",
       "      <th>0</th>\n",
       "      <td>0289fa521acd624fbc4faf038537b1ee</td>\n",
       "      <td>M</td>\n",
       "      <td>0.0</td>\n",
       "      <td>2001-04-04</td>\n",
       "      <td>[784, 463, 466]</td>\n",
       "      <td>NaN</td>\n",
       "    </tr>\n",
       "  </tbody>\n",
       "</table>\n",
       "</div>"
      ],
      "text/plain": [
       "                                 id gender  type       date              icd  \\\n",
       "0  0289fa521acd624fbc4faf038537b1ee      M   0.0 2001-04-04  [784, 463, 466]   \n",
       "\n",
       "  drug  \n",
       "0  NaN  "
      ]
     },
     "execution_count": 164,
     "metadata": {},
     "output_type": "execute_result"
    }
   ],
   "source": [
    "%%time\n",
    "#找地0筆record\n",
    "test.get_record_detial(0)"
   ]
  },
  {
   "cell_type": "code",
   "execution_count": null,
   "metadata": {},
   "outputs": [],
   "source": []
  }
 ],
 "metadata": {
  "kernelspec": {
   "display_name": "Python 3",
   "language": "python",
   "name": "python3"
  },
  "language_info": {
   "codemirror_mode": {
    "name": "ipython",
    "version": 3
   },
   "file_extension": ".py",
   "mimetype": "text/x-python",
   "name": "python",
   "nbconvert_exporter": "python",
   "pygments_lexer": "ipython3",
   "version": "3.7.6"
  }
 },
 "nbformat": 4,
 "nbformat_minor": 2
}
