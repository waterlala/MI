{
 "cells": [
  {
   "cell_type": "code",
   "execution_count": 1,
   "metadata": {},
   "outputs": [],
   "source": [
    "from Patient import patient\n",
    "from Record import record"
   ]
  },
  {
   "cell_type": "code",
   "execution_count": 2,
   "metadata": {},
   "outputs": [],
   "source": [
    "import numpy as np\n",
    "import pandas as pd"
   ]
  },
  {
   "cell_type": "code",
   "execution_count": 3,
   "metadata": {},
   "outputs": [],
   "source": [
    "#下面有範例"
   ]
  },
  {
   "cell_type": "code",
   "execution_count": 19,
   "metadata": {},
   "outputs": [],
   "source": [
    "class main():\n",
    "    def __init__(self):\n",
    "        self._patients = np.nan\n",
    "        self._search_patient = np.nan\n",
    "        \n",
    "    #load 資料庫\n",
    "    def load_data(self):\n",
    "        patients_input = pd.read_pickle('patients_100.pickle')\n",
    "        records_input = pd.read_pickle('records_100.pickle')\n",
    "        inpatients_input = pd.read_pickle('inpatients_100.pickle')\n",
    "        \n",
    "        inpatients_input = inpatients_input.drop('HospID',axis = 1)\n",
    "        inpatients_input['Type'] = 2.0\n",
    "        records_input['Type'] = records_input['Type'].astype('int64')\n",
    "        records_input = records_input[records_input['Type']!=2]\n",
    "        records_input = pd.concat([records_input,inpatients_input])\n",
    "        records_input = records_input.reset_index(drop='True')\n",
    "        self._patients = list()\n",
    "        for row in patients_input.itertuples():\n",
    "            single_records_df = records_input[records_input['ID']== getattr(row,'ID')]\n",
    "            single_records = list()\n",
    "            for rows in single_records_df.itertuples():\n",
    "                single_records.append(\n",
    "                    record(\n",
    "                        getattr(rows,'InDate'),\n",
    "                        getattr(rows,'Type'),\n",
    "                        getattr(rows,'Area'),\n",
    "                        getattr(rows,'TotalDot'),\n",
    "                        getattr(rows,'ICD9CM'),\n",
    "                        getattr(rows,'Drug')\n",
    "                    )\n",
    "                )\n",
    "            self._patients.append(\n",
    "                patient(\n",
    "                    getattr(row,'ID'),\n",
    "                    getattr(row,'Gender'),\n",
    "                    getattr(row,'Birth'),\n",
    "                    getattr(row,'Death'),\n",
    "                    single_records\n",
    "                )\n",
    "            )\n",
    "    def set_patient_by_id(self, _id):\n",
    "        for patient in self._patients:\n",
    "            if patient._id == _id:\n",
    "                self._search_patient = patient\n",
    "                break\n",
    "    \n",
    "    def get_patient_personal_data(self):\n",
    "        out =[[\n",
    "            self._search_patient._id,\n",
    "            self._search_patient._gender,\n",
    "            self._search_patient._birthdate\n",
    "        ]]\n",
    "        return out\n",
    "    \n",
    "    def get_patient_records(self):\n",
    "        out = list()\n",
    "        for record in self._search_patient._records:\n",
    "            s_out = list()\n",
    "            s_out.append(record._date)\n",
    "            s_out.append(record._type)\n",
    "            s_out.append(record._diseases[0])\n",
    "            out.append(s_out)\n",
    "        return out\n",
    "    \n",
    "    def get_record_detial(self, _key):\n",
    "        out = [[\n",
    "            self._search_patient._id,\n",
    "            self._search_patient._gender,\n",
    "            self._search_patient._records[_key]._type,\n",
    "            self._search_patient._records[_key]._date,\n",
    "            self._search_patient._records[_key]._diseases,\n",
    "            self._search_patient._records[_key]._medicine\n",
    "        ]]\n",
    "        return out"
   ]
  },
  {
   "cell_type": "code",
   "execution_count": 20,
   "metadata": {},
   "outputs": [],
   "source": [
    "test = main()"
   ]
  },
  {
   "cell_type": "code",
   "execution_count": null,
   "metadata": {},
   "outputs": [],
   "source": []
  },
  {
   "cell_type": "code",
   "execution_count": 21,
   "metadata": {},
   "outputs": [
    {
     "name": "stdout",
     "output_type": "stream",
     "text": [
      "                                PatientID  SeqNo     InDate          Area  \\\n",
      "0        0007613eee440aa3145f09e1dfd0865b      0 1998-09-07  TaichungCity   \n",
      "1        0007613eee440aa3145f09e1dfd0865b      1 1999-01-14  TaichungCity   \n",
      "2        0007613eee440aa3145f09e1dfd0865b      2 1999-01-25  TaichungCity   \n",
      "3        0007613eee440aa3145f09e1dfd0865b      3 1999-01-27  TaichungCity   \n",
      "4        0007613eee440aa3145f09e1dfd0865b      4 1999-01-28  TaichungCity   \n",
      "...                                   ...    ...        ...           ...   \n",
      "4109097  a3e40da42bceda3fd5c7b9ea7e10dbb6      1 2013-09-14           NaN   \n",
      "4109098  a3e40da42bceda3fd5c7b9ea7e10dbb6      2 2013-12-10           NaN   \n",
      "4109099  a9f2ae6de2106c49cadf46aeeffb03d6      1 2013-10-15           NaN   \n",
      "4109100  4b577d2feb43ce56afc4f854b461b735      1 2013-11-25           NaN   \n",
      "4109101  23d4793aa20a375d5490fdc1b45b2a7e      1 2013-11-27           NaN   \n",
      "\n",
      "         Type  ApplyDot  TotalDot                         ICD9CM HospSpecItem  \\\n",
      "0         1.0    211151    230151                [410, 410, 413]          NaN   \n",
      "1         1.0     14515     16128                     [682, 785]          NaN   \n",
      "2         0.0        50       325                          [682]          NaN   \n",
      "3         0.0        50       307                          [682]          NaN   \n",
      "4         0.0        50       686                          [682]          NaN   \n",
      "...       ...       ...       ...                            ...          ...   \n",
      "4109097   2.0     14841     16490     [59381, 42731, 4254, 2740]            1   \n",
      "4109098   2.0      1839      2043     [4280, 4254, 59381, 42731]            1   \n",
      "4109099   2.0     25638     25638            [4564, 27800, 4279]            1   \n",
      "4109100   2.0     31041     34490  [5942, 5920, 5921, 591, 4280]            2   \n",
      "4109101   2.0     43827     41966             [2180, 2181, 4019]            1   \n",
      "\n",
      "         AcuteBed  ChronicBed  TotalBed  TranTime TranCode  PartDot   DayDot  \\\n",
      "0             NaN         NaN       NaN       NaN      NaN      NaN      NaN   \n",
      "1             NaN         NaN       NaN       NaN      NaN      NaN      NaN   \n",
      "2             NaN         NaN       NaN       NaN      NaN      NaN      NaN   \n",
      "3             NaN         NaN       NaN       NaN      NaN      NaN      NaN   \n",
      "4             NaN         NaN       NaN       NaN      NaN      NaN      NaN   \n",
      "...           ...         ...       ...       ...      ...      ...      ...   \n",
      "4109097       5.0         0.0       5.0       1.0        3   1649.0   3298.0   \n",
      "4109098       1.0         0.0       1.0       1.0        5    204.0   2043.0   \n",
      "4109099       2.0         0.0       2.0       1.0        3      0.0  12819.0   \n",
      "4109100       2.0         0.0       2.0       1.0        3   3449.0  17245.0   \n",
      "4109101       4.0         0.0       4.0       1.0        3   4197.0  10491.5   \n",
      "\n",
      "           OutDate  InAge                                               Drug  \n",
      "0              NaT    NaN                                                NaN  \n",
      "1              NaT    NaN                                                NaN  \n",
      "2              NaT    NaN                                                NaN  \n",
      "3              NaT    NaN                                                NaN  \n",
      "4              NaT    NaN                                                NaN  \n",
      "...            ...    ...                                                ...  \n",
      "4109097 2013-09-19   30.0  [A040130100, AB367881G0, AC058131G0, AC058131G...  \n",
      "4109098 2013-12-10   30.0                                                NaN  \n",
      "4109099 2013-10-17   48.0  [A005874209, A022223100, A025485209, A04013010...  \n",
      "4109100 2013-11-27   37.0  [A001085277, A005874209, AC058111G0, AC058111G...  \n",
      "4109101 2013-12-01   53.0  [A002801277, A005891209, A009250500, A02680420...  \n",
      "\n",
      "[4109102 rows x 19 columns]\n"
     ]
    },
    {
     "ename": "KeyboardInterrupt",
     "evalue": "",
     "output_type": "error",
     "traceback": [
      "\u001b[1;31m---------------------------------------------------------------------------\u001b[0m",
      "\u001b[1;31mKeyboardInterrupt\u001b[0m                         Traceback (most recent call last)",
      "\u001b[1;32m<timed eval>\u001b[0m in \u001b[0;36m<module>\u001b[1;34m\u001b[0m\n",
      "\u001b[1;32m<ipython-input-19-7818b3011920>\u001b[0m in \u001b[0;36mload_data\u001b[1;34m(self)\u001b[0m\n\u001b[0;32m     13\u001b[0m         \u001b[0mself\u001b[0m\u001b[1;33m.\u001b[0m\u001b[0m_patients\u001b[0m \u001b[1;33m=\u001b[0m \u001b[0mlist\u001b[0m\u001b[1;33m(\u001b[0m\u001b[1;33m)\u001b[0m\u001b[1;33m\u001b[0m\u001b[1;33m\u001b[0m\u001b[0m\n\u001b[0;32m     14\u001b[0m         \u001b[1;32mfor\u001b[0m \u001b[0mrow\u001b[0m \u001b[1;32min\u001b[0m \u001b[0mpatients_input\u001b[0m\u001b[1;33m.\u001b[0m\u001b[0mitertuples\u001b[0m\u001b[1;33m(\u001b[0m\u001b[1;33m)\u001b[0m\u001b[1;33m:\u001b[0m\u001b[1;33m\u001b[0m\u001b[1;33m\u001b[0m\u001b[0m\n\u001b[1;32m---> 15\u001b[1;33m             \u001b[0msingle_records_df\u001b[0m \u001b[1;33m=\u001b[0m \u001b[0mrecords_input\u001b[0m\u001b[1;33m[\u001b[0m\u001b[0mrecords_input\u001b[0m\u001b[1;33m[\u001b[0m\u001b[1;34m'PatientID'\u001b[0m\u001b[1;33m]\u001b[0m\u001b[1;33m==\u001b[0m \u001b[0mgetattr\u001b[0m\u001b[1;33m(\u001b[0m\u001b[0mrow\u001b[0m\u001b[1;33m,\u001b[0m\u001b[1;34m'ID'\u001b[0m\u001b[1;33m)\u001b[0m\u001b[1;33m]\u001b[0m\u001b[1;33m\u001b[0m\u001b[1;33m\u001b[0m\u001b[0m\n\u001b[0m\u001b[0;32m     16\u001b[0m             \u001b[0msingle_records\u001b[0m \u001b[1;33m=\u001b[0m \u001b[0mlist\u001b[0m\u001b[1;33m(\u001b[0m\u001b[1;33m)\u001b[0m\u001b[1;33m\u001b[0m\u001b[1;33m\u001b[0m\u001b[0m\n\u001b[0;32m     17\u001b[0m             \u001b[1;32mfor\u001b[0m \u001b[0mrows\u001b[0m \u001b[1;32min\u001b[0m \u001b[0msingle_records_df\u001b[0m\u001b[1;33m.\u001b[0m\u001b[0mitertuples\u001b[0m\u001b[1;33m(\u001b[0m\u001b[1;33m)\u001b[0m\u001b[1;33m:\u001b[0m\u001b[1;33m\u001b[0m\u001b[1;33m\u001b[0m\u001b[0m\n",
      "\u001b[1;32mC:\\ProgramData\\Anaconda3\\lib\\site-packages\\pandas\\core\\ops\\common.py\u001b[0m in \u001b[0;36mnew_method\u001b[1;34m(self, other)\u001b[0m\n\u001b[0;32m     62\u001b[0m         \u001b[0mother\u001b[0m \u001b[1;33m=\u001b[0m \u001b[0mitem_from_zerodim\u001b[0m\u001b[1;33m(\u001b[0m\u001b[0mother\u001b[0m\u001b[1;33m)\u001b[0m\u001b[1;33m\u001b[0m\u001b[1;33m\u001b[0m\u001b[0m\n\u001b[0;32m     63\u001b[0m \u001b[1;33m\u001b[0m\u001b[0m\n\u001b[1;32m---> 64\u001b[1;33m         \u001b[1;32mreturn\u001b[0m \u001b[0mmethod\u001b[0m\u001b[1;33m(\u001b[0m\u001b[0mself\u001b[0m\u001b[1;33m,\u001b[0m \u001b[0mother\u001b[0m\u001b[1;33m)\u001b[0m\u001b[1;33m\u001b[0m\u001b[1;33m\u001b[0m\u001b[0m\n\u001b[0m\u001b[0;32m     65\u001b[0m \u001b[1;33m\u001b[0m\u001b[0m\n\u001b[0;32m     66\u001b[0m     \u001b[1;32mreturn\u001b[0m \u001b[0mnew_method\u001b[0m\u001b[1;33m\u001b[0m\u001b[1;33m\u001b[0m\u001b[0m\n",
      "\u001b[1;32mC:\\ProgramData\\Anaconda3\\lib\\site-packages\\pandas\\core\\ops\\__init__.py\u001b[0m in \u001b[0;36mwrapper\u001b[1;34m(self, other)\u001b[0m\n\u001b[0;32m    524\u001b[0m         \u001b[0mrvalues\u001b[0m \u001b[1;33m=\u001b[0m \u001b[0mextract_array\u001b[0m\u001b[1;33m(\u001b[0m\u001b[0mother\u001b[0m\u001b[1;33m,\u001b[0m \u001b[0mextract_numpy\u001b[0m\u001b[1;33m=\u001b[0m\u001b[1;32mTrue\u001b[0m\u001b[1;33m)\u001b[0m\u001b[1;33m\u001b[0m\u001b[1;33m\u001b[0m\u001b[0m\n\u001b[0;32m    525\u001b[0m \u001b[1;33m\u001b[0m\u001b[0m\n\u001b[1;32m--> 526\u001b[1;33m         \u001b[0mres_values\u001b[0m \u001b[1;33m=\u001b[0m \u001b[0mcomparison_op\u001b[0m\u001b[1;33m(\u001b[0m\u001b[0mlvalues\u001b[0m\u001b[1;33m,\u001b[0m \u001b[0mrvalues\u001b[0m\u001b[1;33m,\u001b[0m \u001b[0mop\u001b[0m\u001b[1;33m)\u001b[0m\u001b[1;33m\u001b[0m\u001b[1;33m\u001b[0m\u001b[0m\n\u001b[0m\u001b[0;32m    527\u001b[0m \u001b[1;33m\u001b[0m\u001b[0m\n\u001b[0;32m    528\u001b[0m         \u001b[1;32mreturn\u001b[0m \u001b[0m_construct_result\u001b[0m\u001b[1;33m(\u001b[0m\u001b[0mself\u001b[0m\u001b[1;33m,\u001b[0m \u001b[0mres_values\u001b[0m\u001b[1;33m,\u001b[0m \u001b[0mindex\u001b[0m\u001b[1;33m=\u001b[0m\u001b[0mself\u001b[0m\u001b[1;33m.\u001b[0m\u001b[0mindex\u001b[0m\u001b[1;33m,\u001b[0m \u001b[0mname\u001b[0m\u001b[1;33m=\u001b[0m\u001b[0mres_name\u001b[0m\u001b[1;33m)\u001b[0m\u001b[1;33m\u001b[0m\u001b[1;33m\u001b[0m\u001b[0m\n",
      "\u001b[1;32mC:\\ProgramData\\Anaconda3\\lib\\site-packages\\pandas\\core\\ops\\array_ops.py\u001b[0m in \u001b[0;36mcomparison_op\u001b[1;34m(left, right, op)\u001b[0m\n\u001b[0;32m    245\u001b[0m \u001b[1;33m\u001b[0m\u001b[0m\n\u001b[0;32m    246\u001b[0m     \u001b[1;32melif\u001b[0m \u001b[0mis_object_dtype\u001b[0m\u001b[1;33m(\u001b[0m\u001b[0mlvalues\u001b[0m\u001b[1;33m.\u001b[0m\u001b[0mdtype\u001b[0m\u001b[1;33m)\u001b[0m\u001b[1;33m:\u001b[0m\u001b[1;33m\u001b[0m\u001b[1;33m\u001b[0m\u001b[0m\n\u001b[1;32m--> 247\u001b[1;33m         \u001b[0mres_values\u001b[0m \u001b[1;33m=\u001b[0m \u001b[0mcomp_method_OBJECT_ARRAY\u001b[0m\u001b[1;33m(\u001b[0m\u001b[0mop\u001b[0m\u001b[1;33m,\u001b[0m \u001b[0mlvalues\u001b[0m\u001b[1;33m,\u001b[0m \u001b[0mrvalues\u001b[0m\u001b[1;33m)\u001b[0m\u001b[1;33m\u001b[0m\u001b[1;33m\u001b[0m\u001b[0m\n\u001b[0m\u001b[0;32m    248\u001b[0m \u001b[1;33m\u001b[0m\u001b[0m\n\u001b[0;32m    249\u001b[0m     \u001b[1;32melse\u001b[0m\u001b[1;33m:\u001b[0m\u001b[1;33m\u001b[0m\u001b[1;33m\u001b[0m\u001b[0m\n",
      "\u001b[1;32mC:\\ProgramData\\Anaconda3\\lib\\site-packages\\pandas\\core\\ops\\array_ops.py\u001b[0m in \u001b[0;36mcomp_method_OBJECT_ARRAY\u001b[1;34m(op, x, y)\u001b[0m\n\u001b[0;32m     56\u001b[0m     \u001b[1;32melse\u001b[0m\u001b[1;33m:\u001b[0m\u001b[1;33m\u001b[0m\u001b[1;33m\u001b[0m\u001b[0m\n\u001b[0;32m     57\u001b[0m         \u001b[0mresult\u001b[0m \u001b[1;33m=\u001b[0m \u001b[0mlibops\u001b[0m\u001b[1;33m.\u001b[0m\u001b[0mscalar_compare\u001b[0m\u001b[1;33m(\u001b[0m\u001b[0mx\u001b[0m\u001b[1;33m.\u001b[0m\u001b[0mravel\u001b[0m\u001b[1;33m(\u001b[0m\u001b[1;33m)\u001b[0m\u001b[1;33m,\u001b[0m \u001b[0my\u001b[0m\u001b[1;33m,\u001b[0m \u001b[0mop\u001b[0m\u001b[1;33m)\u001b[0m\u001b[1;33m\u001b[0m\u001b[1;33m\u001b[0m\u001b[0m\n\u001b[1;32m---> 58\u001b[1;33m     \u001b[1;32mreturn\u001b[0m \u001b[0mresult\u001b[0m\u001b[1;33m.\u001b[0m\u001b[0mreshape\u001b[0m\u001b[1;33m(\u001b[0m\u001b[0mx\u001b[0m\u001b[1;33m.\u001b[0m\u001b[0mshape\u001b[0m\u001b[1;33m)\u001b[0m\u001b[1;33m\u001b[0m\u001b[1;33m\u001b[0m\u001b[0m\n\u001b[0m\u001b[0;32m     59\u001b[0m \u001b[1;33m\u001b[0m\u001b[0m\n\u001b[0;32m     60\u001b[0m \u001b[1;33m\u001b[0m\u001b[0m\n",
      "\u001b[1;31mKeyboardInterrupt\u001b[0m: "
     ]
    }
   ],
   "source": [
    "%%time\n",
    "test.load_data()"
   ]
  },
  {
   "cell_type": "code",
   "execution_count": 22,
   "metadata": {},
   "outputs": [
    {
     "name": "stdout",
     "output_type": "stream",
     "text": [
      "Wall time: 0 ns\n"
     ]
    }
   ],
   "source": [
    "%%time\n",
    "test_patient_ID = '001bb0fb0274b845fcf167f24548fa0b'\n",
    "test.set_patient_by_id(test_patient_ID)"
   ]
  },
  {
   "cell_type": "code",
   "execution_count": 23,
   "metadata": {},
   "outputs": [
    {
     "name": "stdout",
     "output_type": "stream",
     "text": [
      "Wall time: 0 ns\n"
     ]
    },
    {
     "data": {
      "text/html": [
       "<div>\n",
       "<style scoped>\n",
       "    .dataframe tbody tr th:only-of-type {\n",
       "        vertical-align: middle;\n",
       "    }\n",
       "\n",
       "    .dataframe tbody tr th {\n",
       "        vertical-align: top;\n",
       "    }\n",
       "\n",
       "    .dataframe thead th {\n",
       "        text-align: right;\n",
       "    }\n",
       "</style>\n",
       "<table border=\"1\" class=\"dataframe\">\n",
       "  <thead>\n",
       "    <tr style=\"text-align: right;\">\n",
       "      <th></th>\n",
       "      <th>id</th>\n",
       "      <th>gender</th>\n",
       "      <th>birthdate</th>\n",
       "    </tr>\n",
       "  </thead>\n",
       "  <tbody>\n",
       "    <tr>\n",
       "      <th>0</th>\n",
       "      <td>001bb0fb0274b845fcf167f24548fa0b</td>\n",
       "      <td>F</td>\n",
       "      <td>1929-09-01</td>\n",
       "    </tr>\n",
       "  </tbody>\n",
       "</table>\n",
       "</div>"
      ],
      "text/plain": [
       "                                 id gender  birthdate\n",
       "0  001bb0fb0274b845fcf167f24548fa0b      F 1929-09-01"
      ]
     },
     "execution_count": 23,
     "metadata": {},
     "output_type": "execute_result"
    }
   ],
   "source": [
    "%%time\n",
    "out = test.get_patient_personal_data()\n",
    "pd.DataFrame(out,columns=['id','gender','birthdate'])"
   ]
  },
  {
   "cell_type": "code",
   "execution_count": 24,
   "metadata": {},
   "outputs": [
    {
     "name": "stdout",
     "output_type": "stream",
     "text": [
      "Wall time: 4.04 ms\n"
     ]
    },
    {
     "data": {
      "text/html": [
       "<div>\n",
       "<style scoped>\n",
       "    .dataframe tbody tr th:only-of-type {\n",
       "        vertical-align: middle;\n",
       "    }\n",
       "\n",
       "    .dataframe tbody tr th {\n",
       "        vertical-align: top;\n",
       "    }\n",
       "\n",
       "    .dataframe thead th {\n",
       "        text-align: right;\n",
       "    }\n",
       "</style>\n",
       "<table border=\"1\" class=\"dataframe\">\n",
       "  <thead>\n",
       "    <tr style=\"text-align: right;\">\n",
       "      <th></th>\n",
       "      <th>date</th>\n",
       "      <th>type</th>\n",
       "      <th>main_disease</th>\n",
       "    </tr>\n",
       "  </thead>\n",
       "  <tbody>\n",
       "    <tr>\n",
       "      <th>0</th>\n",
       "      <td>1996-09-17</td>\n",
       "      <td>0.0</td>\n",
       "      <td>521</td>\n",
       "    </tr>\n",
       "    <tr>\n",
       "      <th>1</th>\n",
       "      <td>1996-09-24</td>\n",
       "      <td>0.0</td>\n",
       "      <td>523</td>\n",
       "    </tr>\n",
       "    <tr>\n",
       "      <th>2</th>\n",
       "      <td>1998-06-17</td>\n",
       "      <td>0.0</td>\n",
       "      <td>521</td>\n",
       "    </tr>\n",
       "    <tr>\n",
       "      <th>3</th>\n",
       "      <td>1998-10-09</td>\n",
       "      <td>0.0</td>\n",
       "      <td>788</td>\n",
       "    </tr>\n",
       "    <tr>\n",
       "      <th>4</th>\n",
       "      <td>1998-10-14</td>\n",
       "      <td>0.0</td>\n",
       "      <td>788</td>\n",
       "    </tr>\n",
       "    <tr>\n",
       "      <th>...</th>\n",
       "      <td>...</td>\n",
       "      <td>...</td>\n",
       "      <td>...</td>\n",
       "    </tr>\n",
       "    <tr>\n",
       "      <th>494</th>\n",
       "      <td>2013-03-11</td>\n",
       "      <td>0.0</td>\n",
       "      <td>273</td>\n",
       "    </tr>\n",
       "    <tr>\n",
       "      <th>495</th>\n",
       "      <td>2013-03-11</td>\n",
       "      <td>1.0</td>\n",
       "      <td>273</td>\n",
       "    </tr>\n",
       "    <tr>\n",
       "      <th>496</th>\n",
       "      <td>2013-04-01</td>\n",
       "      <td>0.0</td>\n",
       "      <td>447</td>\n",
       "    </tr>\n",
       "    <tr>\n",
       "      <th>497</th>\n",
       "      <td>2013-04-15</td>\n",
       "      <td>1.0</td>\n",
       "      <td>410</td>\n",
       "    </tr>\n",
       "    <tr>\n",
       "      <th>498</th>\n",
       "      <td>2013-04-23</td>\n",
       "      <td>1.0</td>\n",
       "      <td>507</td>\n",
       "    </tr>\n",
       "  </tbody>\n",
       "</table>\n",
       "<p>499 rows × 3 columns</p>\n",
       "</div>"
      ],
      "text/plain": [
       "          date  type  main_disease\n",
       "0   1996-09-17   0.0           521\n",
       "1   1996-09-24   0.0           523\n",
       "2   1998-06-17   0.0           521\n",
       "3   1998-10-09   0.0           788\n",
       "4   1998-10-14   0.0           788\n",
       "..         ...   ...           ...\n",
       "494 2013-03-11   0.0           273\n",
       "495 2013-03-11   1.0           273\n",
       "496 2013-04-01   0.0           447\n",
       "497 2013-04-15   1.0           410\n",
       "498 2013-04-23   1.0           507\n",
       "\n",
       "[499 rows x 3 columns]"
      ]
     },
     "execution_count": 24,
     "metadata": {},
     "output_type": "execute_result"
    }
   ],
   "source": [
    "%%time\n",
    "out = test.get_patient_records()\n",
    "pd.DataFrame(out,columns=['date','type','main_disease'])"
   ]
  },
  {
   "cell_type": "code",
   "execution_count": null,
   "metadata": {},
   "outputs": [],
   "source": [
    "%%time\n",
    "#找地0筆record\n",
    "out =  test.get_record_detial(0)\n",
    "pd.DataFrame(out,columns=['id','gender','type','date','icd','drug'])"
   ]
  },
  {
   "cell_type": "code",
   "execution_count": 8,
   "metadata": {},
   "outputs": [
    {
     "name": "stdout",
     "output_type": "stream",
     "text": [
      "Wall time: 0 ns\n"
     ]
    }
   ],
   "source": [
    "%%time\n",
    "for i in range(0,100,1):\n",
    "    continue"
   ]
  },
  {
   "cell_type": "code",
   "execution_count": null,
   "metadata": {},
   "outputs": [],
   "source": []
  },
  {
   "cell_type": "code",
   "execution_count": null,
   "metadata": {},
   "outputs": [],
   "source": []
  },
  {
   "cell_type": "code",
   "execution_count": null,
   "metadata": {},
   "outputs": [],
   "source": []
  },
  {
   "cell_type": "code",
   "execution_count": null,
   "metadata": {},
   "outputs": [],
   "source": []
  },
  {
   "cell_type": "code",
   "execution_count": null,
   "metadata": {},
   "outputs": [],
   "source": []
  }
 ],
 "metadata": {
  "kernelspec": {
   "display_name": "Python 3",
   "language": "python",
   "name": "python3"
  },
  "language_info": {
   "codemirror_mode": {
    "name": "ipython",
    "version": 3
   },
   "file_extension": ".py",
   "mimetype": "text/x-python",
   "name": "python",
   "nbconvert_exporter": "python",
   "pygments_lexer": "ipython3",
   "version": "3.7.6"
  }
 },
 "nbformat": 4,
 "nbformat_minor": 2
}
