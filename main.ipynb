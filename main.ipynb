{
 "cells": [
  {
   "cell_type": "code",
   "execution_count": 94,
   "metadata": {},
   "outputs": [],
   "source": [
    "from Patient import patient\n",
    "from Record import record"
   ]
  },
  {
   "cell_type": "code",
   "execution_count": 95,
   "metadata": {},
   "outputs": [],
   "source": [
    "import numpy as np\n",
    "import pandas as pd"
   ]
  },
  {
   "cell_type": "code",
   "execution_count": 96,
   "metadata": {},
   "outputs": [],
   "source": [
    "#下面有範例"
   ]
  },
  {
   "cell_type": "code",
   "execution_count": 101,
   "metadata": {},
   "outputs": [],
   "source": [
    "class main():\n",
    "    def __init__(self):\n",
    "        #資料庫\n",
    "        self.patients_data = np.nan\n",
    "        self.records_data = np.nan\n",
    "        self.inpatients_data = np.nan\n",
    "        #選擇的人\n",
    "        self.main_patient = np.nan\n",
    "        self.main_record = np.nan\n",
    "        \n",
    "    #load 資料庫\n",
    "    def load_data(self):\n",
    "        self.patients_data = pd.read_pickle('patients_100.pickle')\n",
    "        self.records_data = pd.read_pickle('records_100.pickle')\n",
    "        self.inpatients_data = pd.read_pickle('inpatients_100.pickle')\n",
    "        \n",
    "    #用ID load 人    \n",
    "    def set_patient_by_id(self, _id):\n",
    "        patients = self.patients_data\n",
    "        records = self.records_data\n",
    "        inpatients = self.inpatients_data\n",
    "        patients = patients[patients['ID']==_id]\n",
    "        inpatients = inpatients.drop('HospID',axis = 1)\n",
    "        inpatients['Type'] = 2.0\n",
    "        records['Type'] = records['Type'].astype('int64')\n",
    "        records = records[records['Type']!=2]\n",
    "        records = pd.concat([records,inpatients])\n",
    "        records = records.reset_index(drop='True')\n",
    "        records = records[records['ID']==_id]\n",
    "\n",
    "        self.main_patient = patient(patients.ID.values[0],\n",
    "                               patients.Gender.values[0],\n",
    "                               patients.Birth.values[0],\n",
    "                               patients.Death.values[0])\n",
    "        self.main_record = list()\n",
    "        i=0\n",
    "        for row in records.itertuples():\n",
    "            self.main_record.append(record(i,\n",
    "                               getattr(row,'InDate'),\n",
    "                               getattr(row,'Type'),\n",
    "                               getattr(row,'Area'),\n",
    "                               getattr(row,'TotalDot'),\n",
    "                               getattr(row,'ICD9CM'),\n",
    "                               getattr(row,'Drug')))\n",
    "            i=i+1\n",
    "    \n",
    "    def get_patient_personal_data(self):\n",
    "        out = pd.DataFrame([[\n",
    "            self.main_patient._id,\n",
    "            self.main_patient._gender,\n",
    "            np.datetime_as_string(self.main_patient._birthdate, unit='D')\n",
    "        ]],columns=['id','gender','birthdate'])\n",
    "        return out\n",
    "    \n",
    "    def get_patient_records(self):\n",
    "        out_dataframe = list()\n",
    "        for record in self.main_record:\n",
    "            out = list()\n",
    "            out.append(record._id)\n",
    "            out.append(record._date)\n",
    "            out.append(record._type)\n",
    "            out.append(record._diseases[0])\n",
    "            out_dataframe.append(out)\n",
    "        return pd.DataFrame(out_dataframe,columns=['id','date','type','icd'])\n",
    "    \n",
    "    def get_record_detial(self, _id):\n",
    "        i=0\n",
    "        while(1):\n",
    "            if(self.main_record[i]._id == _id):\n",
    "                out = pd.DataFrame([[\n",
    "                    self.main_patient._id,\n",
    "                    self.main_patient._gender,\n",
    "                    self.main_record[i]._id,\n",
    "                    self.main_record[i]._type,\n",
    "                    self.main_record[i]._date,\n",
    "                    self.main_record[i]._diseases,\n",
    "                    self.main_record[i]._medicine\n",
    "                ]],columns=['id','gender','record_id','type','date','icd','drug'])\n",
    "                break\n",
    "            else:\n",
    "                i = i+1\n",
    "        return out"
   ]
  },
  {
   "cell_type": "code",
   "execution_count": 102,
   "metadata": {},
   "outputs": [],
   "source": [
    "test = main()"
   ]
  },
  {
   "cell_type": "code",
   "execution_count": 103,
   "metadata": {},
   "outputs": [
    {
     "name": "stdout",
     "output_type": "stream",
     "text": [
      "Wall time: 19.9 ms\n"
     ]
    }
   ],
   "source": [
    "%%time\n",
    "test.load_data()"
   ]
  },
  {
   "cell_type": "code",
   "execution_count": 104,
   "metadata": {},
   "outputs": [
    {
     "name": "stdout",
     "output_type": "stream",
     "text": [
      "Wall time: 42.9 ms\n"
     ]
    }
   ],
   "source": [
    "%%time\n",
    "test_patient_ID = '0007613eee440aa3145f09e1dfd0865b'\n",
    "test.set_patient_by_id(test_patient_ID)"
   ]
  },
  {
   "cell_type": "code",
   "execution_count": 105,
   "metadata": {},
   "outputs": [
    {
     "name": "stdout",
     "output_type": "stream",
     "text": [
      "Wall time: 989 µs\n"
     ]
    },
    {
     "data": {
      "text/html": [
       "<div>\n",
       "<style scoped>\n",
       "    .dataframe tbody tr th:only-of-type {\n",
       "        vertical-align: middle;\n",
       "    }\n",
       "\n",
       "    .dataframe tbody tr th {\n",
       "        vertical-align: top;\n",
       "    }\n",
       "\n",
       "    .dataframe thead th {\n",
       "        text-align: right;\n",
       "    }\n",
       "</style>\n",
       "<table border=\"1\" class=\"dataframe\">\n",
       "  <thead>\n",
       "    <tr style=\"text-align: right;\">\n",
       "      <th></th>\n",
       "      <th>id</th>\n",
       "      <th>gender</th>\n",
       "      <th>birthdate</th>\n",
       "    </tr>\n",
       "  </thead>\n",
       "  <tbody>\n",
       "    <tr>\n",
       "      <th>0</th>\n",
       "      <td>0007613eee440aa3145f09e1dfd0865b</td>\n",
       "      <td>M</td>\n",
       "      <td>1968-07-01</td>\n",
       "    </tr>\n",
       "  </tbody>\n",
       "</table>\n",
       "</div>"
      ],
      "text/plain": [
       "                                 id gender   birthdate\n",
       "0  0007613eee440aa3145f09e1dfd0865b      M  1968-07-01"
      ]
     },
     "execution_count": 105,
     "metadata": {},
     "output_type": "execute_result"
    }
   ],
   "source": [
    "%%time\n",
    "test.get_patient_personal_data()"
   ]
  },
  {
   "cell_type": "code",
   "execution_count": 106,
   "metadata": {},
   "outputs": [
    {
     "name": "stdout",
     "output_type": "stream",
     "text": [
      "Wall time: 1.99 ms\n"
     ]
    },
    {
     "data": {
      "text/html": [
       "<div>\n",
       "<style scoped>\n",
       "    .dataframe tbody tr th:only-of-type {\n",
       "        vertical-align: middle;\n",
       "    }\n",
       "\n",
       "    .dataframe tbody tr th {\n",
       "        vertical-align: top;\n",
       "    }\n",
       "\n",
       "    .dataframe thead th {\n",
       "        text-align: right;\n",
       "    }\n",
       "</style>\n",
       "<table border=\"1\" class=\"dataframe\">\n",
       "  <thead>\n",
       "    <tr style=\"text-align: right;\">\n",
       "      <th></th>\n",
       "      <th>id</th>\n",
       "      <th>date</th>\n",
       "      <th>type</th>\n",
       "      <th>icd</th>\n",
       "    </tr>\n",
       "  </thead>\n",
       "  <tbody>\n",
       "    <tr>\n",
       "      <th>0</th>\n",
       "      <td>0</td>\n",
       "      <td>1998-09-07</td>\n",
       "      <td>1.0</td>\n",
       "      <td>410</td>\n",
       "    </tr>\n",
       "    <tr>\n",
       "      <th>1</th>\n",
       "      <td>1</td>\n",
       "      <td>1999-01-14</td>\n",
       "      <td>1.0</td>\n",
       "      <td>682</td>\n",
       "    </tr>\n",
       "    <tr>\n",
       "      <th>2</th>\n",
       "      <td>2</td>\n",
       "      <td>1999-01-25</td>\n",
       "      <td>0.0</td>\n",
       "      <td>682</td>\n",
       "    </tr>\n",
       "    <tr>\n",
       "      <th>3</th>\n",
       "      <td>3</td>\n",
       "      <td>1999-01-27</td>\n",
       "      <td>0.0</td>\n",
       "      <td>682</td>\n",
       "    </tr>\n",
       "    <tr>\n",
       "      <th>4</th>\n",
       "      <td>4</td>\n",
       "      <td>1999-01-28</td>\n",
       "      <td>0.0</td>\n",
       "      <td>682</td>\n",
       "    </tr>\n",
       "    <tr>\n",
       "      <th>...</th>\n",
       "      <td>...</td>\n",
       "      <td>...</td>\n",
       "      <td>...</td>\n",
       "      <td>...</td>\n",
       "    </tr>\n",
       "    <tr>\n",
       "      <th>445</th>\n",
       "      <td>445</td>\n",
       "      <td>2000-07-04</td>\n",
       "      <td>2.0</td>\n",
       "      <td>44422</td>\n",
       "    </tr>\n",
       "    <tr>\n",
       "      <th>446</th>\n",
       "      <td>446</td>\n",
       "      <td>2000-08-08</td>\n",
       "      <td>2.0</td>\n",
       "      <td>7854</td>\n",
       "    </tr>\n",
       "    <tr>\n",
       "      <th>447</th>\n",
       "      <td>447</td>\n",
       "      <td>2010-12-13</td>\n",
       "      <td>2.0</td>\n",
       "      <td>389</td>\n",
       "    </tr>\n",
       "    <tr>\n",
       "      <th>448</th>\n",
       "      <td>448</td>\n",
       "      <td>2011-11-05</td>\n",
       "      <td>2.0</td>\n",
       "      <td>51881</td>\n",
       "    </tr>\n",
       "    <tr>\n",
       "      <th>449</th>\n",
       "      <td>449</td>\n",
       "      <td>2011-11-24</td>\n",
       "      <td>2.0</td>\n",
       "      <td>42732</td>\n",
       "    </tr>\n",
       "  </tbody>\n",
       "</table>\n",
       "<p>450 rows × 4 columns</p>\n",
       "</div>"
      ],
      "text/plain": [
       "      id       date  type    icd\n",
       "0      0 1998-09-07   1.0    410\n",
       "1      1 1999-01-14   1.0    682\n",
       "2      2 1999-01-25   0.0    682\n",
       "3      3 1999-01-27   0.0    682\n",
       "4      4 1999-01-28   0.0    682\n",
       "..   ...        ...   ...    ...\n",
       "445  445 2000-07-04   2.0  44422\n",
       "446  446 2000-08-08   2.0   7854\n",
       "447  447 2010-12-13   2.0    389\n",
       "448  448 2011-11-05   2.0  51881\n",
       "449  449 2011-11-24   2.0  42732\n",
       "\n",
       "[450 rows x 4 columns]"
      ]
     },
     "execution_count": 106,
     "metadata": {},
     "output_type": "execute_result"
    }
   ],
   "source": [
    "%%time\n",
    "test.get_patient_records()"
   ]
  },
  {
   "cell_type": "code",
   "execution_count": 107,
   "metadata": {},
   "outputs": [
    {
     "name": "stdout",
     "output_type": "stream",
     "text": [
      "Wall time: 997 µs\n"
     ]
    },
    {
     "data": {
      "text/html": [
       "<div>\n",
       "<style scoped>\n",
       "    .dataframe tbody tr th:only-of-type {\n",
       "        vertical-align: middle;\n",
       "    }\n",
       "\n",
       "    .dataframe tbody tr th {\n",
       "        vertical-align: top;\n",
       "    }\n",
       "\n",
       "    .dataframe thead th {\n",
       "        text-align: right;\n",
       "    }\n",
       "</style>\n",
       "<table border=\"1\" class=\"dataframe\">\n",
       "  <thead>\n",
       "    <tr style=\"text-align: right;\">\n",
       "      <th></th>\n",
       "      <th>id</th>\n",
       "      <th>gender</th>\n",
       "      <th>record_id</th>\n",
       "      <th>type</th>\n",
       "      <th>date</th>\n",
       "      <th>icd</th>\n",
       "      <th>drug</th>\n",
       "    </tr>\n",
       "  </thead>\n",
       "  <tbody>\n",
       "    <tr>\n",
       "      <th>0</th>\n",
       "      <td>0007613eee440aa3145f09e1dfd0865b</td>\n",
       "      <td>M</td>\n",
       "      <td>0</td>\n",
       "      <td>1.0</td>\n",
       "      <td>1998-09-07</td>\n",
       "      <td>[410, 410, 413]</td>\n",
       "      <td>NaN</td>\n",
       "    </tr>\n",
       "  </tbody>\n",
       "</table>\n",
       "</div>"
      ],
      "text/plain": [
       "                                 id gender  record_id  type       date  \\\n",
       "0  0007613eee440aa3145f09e1dfd0865b      M          0   1.0 1998-09-07   \n",
       "\n",
       "               icd  drug  \n",
       "0  [410, 410, 413]   NaN  "
      ]
     },
     "execution_count": 107,
     "metadata": {},
     "output_type": "execute_result"
    }
   ],
   "source": [
    "%%time\n",
    "#找地0筆record\n",
    "_id = 0 \n",
    "test.get_record_detial(_id)"
   ]
  },
  {
   "cell_type": "code",
   "execution_count": null,
   "metadata": {},
   "outputs": [],
   "source": []
  },
  {
   "cell_type": "code",
   "execution_count": null,
   "metadata": {},
   "outputs": [],
   "source": []
  },
  {
   "cell_type": "code",
   "execution_count": null,
   "metadata": {},
   "outputs": [],
   "source": []
  },
  {
   "cell_type": "code",
   "execution_count": null,
   "metadata": {},
   "outputs": [],
   "source": []
  },
  {
   "cell_type": "code",
   "execution_count": null,
   "metadata": {},
   "outputs": [],
   "source": []
  }
 ],
 "metadata": {
  "kernelspec": {
   "display_name": "Python 3",
   "language": "python",
   "name": "python3"
  },
  "language_info": {
   "codemirror_mode": {
    "name": "ipython",
    "version": 3
   },
   "file_extension": ".py",
   "mimetype": "text/x-python",
   "name": "python",
   "nbconvert_exporter": "python",
   "pygments_lexer": "ipython3",
   "version": "3.7.6"
  }
 },
 "nbformat": 4,
 "nbformat_minor": 2
}
